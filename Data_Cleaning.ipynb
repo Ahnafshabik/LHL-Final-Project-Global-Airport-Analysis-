{
 "cells": [
  {
   "cell_type": "code",
   "execution_count": 81,
   "id": "1b5949ee-a373-4fd9-8b76-1ec86ecf006d",
   "metadata": {
    "tags": []
   },
   "outputs": [],
   "source": [
    "import pandas as pd\n"
   ]
  },
  {
   "cell_type": "code",
   "execution_count": 82,
   "id": "4b6372df-cb0e-4b4d-b1c9-d6e862e5e311",
   "metadata": {
    "tags": []
   },
   "outputs": [
    {
     "data": {
      "text/plain": [
       "Country                                       0\n",
       "Density\\n(P/Km2)                              0\n",
       "Abbreviation                                  7\n",
       "Agricultural Land( %)                         7\n",
       "Land Area(Km2)                                1\n",
       "Armed Forces size                            24\n",
       "Birth Rate                                    6\n",
       "Calling Code                                  1\n",
       "Capital/Major City                            3\n",
       "Co2-Emissions                                 7\n",
       "CPI                                          17\n",
       "CPI Change (%)                               16\n",
       "Currency-Code                                15\n",
       "Fertility Rate                                7\n",
       "Forested Area (%)                             7\n",
       "Gasoline Price                               20\n",
       "GDP                                           2\n",
       "Gross primary education enrollment (%)        7\n",
       "Gross tertiary education enrollment (%)      12\n",
       "Infant mortality                              6\n",
       "Largest city                                  6\n",
       "Life expectancy                               8\n",
       "Maternal mortality ratio                     14\n",
       "Minimum wage                                 45\n",
       "Official language                             1\n",
       "Out of pocket health expenditure              7\n",
       "Physicians per thousand                       7\n",
       "Population                                    1\n",
       "Population: Labor force participation (%)    19\n",
       "Tax revenue (%)                              26\n",
       "Total tax rate                               12\n",
       "Unemployment rate                            19\n",
       "Urban_population                              5\n",
       "Latitude                                      1\n",
       "Longitude                                     1\n",
       "dtype: int64"
      ]
     },
     "execution_count": 82,
     "metadata": {},
     "output_type": "execute_result"
    }
   ],
   "source": [
    "#importing and Data Checking (World Data 2023)\n",
    "\n",
    "world_data=pd.read_csv(\"C:\\\\Users\\\\Ahnaf\\\\Desktop\\\\LHL Final Project\\\\LHL-Final-Project-Global-Airport-Analysis-\\\\world-data-2023 uncleaned.csv\")\n",
    "\n",
    "#basic data checking\n",
    "\n",
    "#world_data.head()\n",
    "#world_data.describe()\n",
    "#world_data.dtypes\n",
    "#world_data.duplicated().sum()\n",
    "world_data.isnull().sum()\n"
   ]
  },
  {
   "cell_type": "code",
   "execution_count": 83,
   "id": "1fcd1089-0905-43fe-aa1b-0abf64511c1d",
   "metadata": {
    "tags": []
   },
   "outputs": [
    {
     "data": {
      "text/plain": [
       "Minimum wage                                 23.076923\n",
       "Tax revenue (%)                              13.333333\n",
       "Armed Forces size                            12.307692\n",
       "Gasoline Price                               10.256410\n",
       "Unemployment rate                             9.743590\n",
       "Population: Labor force participation (%)     9.743590\n",
       "CPI                                           8.717949\n",
       "CPI Change (%)                                8.205128\n",
       "Currency-Code                                 7.692308\n",
       "Maternal mortality ratio                      7.179487\n",
       "Gross tertiary education enrollment (%)       6.153846\n",
       "Total tax rate                                6.153846\n",
       "Life expectancy                               4.102564\n",
       "Agricultural Land( %)                         3.589744\n",
       "Physicians per thousand                       3.589744\n",
       "Out of pocket health expenditure              3.589744\n",
       "Abbreviation                                  3.589744\n",
       "Gross primary education enrollment (%)        3.589744\n",
       "Forested Area (%)                             3.589744\n",
       "Fertility Rate                                3.589744\n",
       "Co2-Emissions                                 3.589744\n",
       "Infant mortality                              3.076923\n",
       "Largest city                                  3.076923\n",
       "Birth Rate                                    3.076923\n",
       "Urban_population                              2.564103\n",
       "Capital/Major City                            1.538462\n",
       "GDP                                           1.025641\n",
       "Official language                             0.512821\n",
       "Population                                    0.512821\n",
       "Calling Code                                  0.512821\n",
       "Land Area(Km2)                                0.512821\n",
       "Latitude                                      0.512821\n",
       "Longitude                                     0.512821\n",
       "dtype: float64"
      ]
     },
     "execution_count": 83,
     "metadata": {},
     "output_type": "execute_result"
    }
   ],
   "source": [
    "# Calculate the percentage of missing values for each column in the cleaned dataset\n",
    "missing_percentage = (world_data_cleaned.isnull().sum() / len(world_data_cleaned)) * 100\n",
    "\n",
    "# Filter out columns that have missing values\n",
    "cols_with_missing_values = missing_percentage[missing_percentage > 0]\n",
    "\n",
    "cols_with_missing_values.sort_values(ascending=False)\n"
   ]
  },
  {
   "cell_type": "code",
   "execution_count": 84,
   "id": "a4508c27-7b74-4a6d-9beb-2d2af829dd01",
   "metadata": {
    "tags": []
   },
   "outputs": [
    {
     "data": {
      "text/plain": [
       "Country               0\n",
       "Density\\n(P/Km2)      0\n",
       "Land Area(Km2)        1\n",
       "Calling Code          1\n",
       "Capital/Major City    3\n",
       "GDP                   2\n",
       "Official language     1\n",
       "Population            1\n",
       "Urban_population      5\n",
       "Latitude              1\n",
       "Longitude             1\n",
       "dtype: int64"
      ]
     },
     "execution_count": 84,
     "metadata": {},
     "output_type": "execute_result"
    }
   ],
   "source": [
    "# Set a threshold for dropping columns\n",
    "drop_threshold = 3\n",
    "\n",
    "# Identify columns where the percentage of missing values is 3% or greater\n",
    "cols_to_drop = world_data_cleaned.columns[world_data_cleaned.isnull().mean() * 100 >= drop_threshold]\n",
    "\n",
    "# Drop identified columns\n",
    "world_data = world_data_cleaned.drop(columns=cols_to_drop)\n",
    "world_data.isnull().sum()"
   ]
  },
  {
   "cell_type": "code",
   "execution_count": 93,
   "id": "e1a0a0be-bbfc-473d-8b7a-632a992b2cfd",
   "metadata": {
    "tags": []
   },
   "outputs": [],
   "source": [
    "#Exporting Cleaned Data (World Data 2023)\n",
    "file_path=\"C:\\\\Users\\\\Ahnaf\\\\Desktop\\\\LHL Final Project\\\\LHL-Final-Project-Global-Airport-Analysis-\\\\world-data-2023 uncleaned.csv\"\n",
    "world_data.to_csv(file_path, index=False)"
   ]
  },
  {
   "cell_type": "code",
   "execution_count": null,
   "id": "1b365fa0-2889-4f42-9fac-9a464182579c",
   "metadata": {},
   "outputs": [],
   "source": []
  }
 ],
 "metadata": {
  "kernelspec": {
   "display_name": "firstEnv",
   "language": "python",
   "name": "firstenv"
  },
  "language_info": {
   "codemirror_mode": {
    "name": "ipython",
    "version": 3
   },
   "file_extension": ".py",
   "mimetype": "text/x-python",
   "name": "python",
   "nbconvert_exporter": "python",
   "pygments_lexer": "ipython3",
   "version": "3.11.3"
  }
 },
 "nbformat": 4,
 "nbformat_minor": 5
}
