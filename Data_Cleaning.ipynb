{
 "cells": [
  {
   "cell_type": "code",
   "execution_count": 11,
   "id": "1b5949ee-a373-4fd9-8b76-1ec86ecf006d",
   "metadata": {
    "tags": []
   },
   "outputs": [],
   "source": [
    "import pandas as pd\n"
   ]
  },
  {
   "cell_type": "code",
   "execution_count": 24,
   "id": "4b6372df-cb0e-4b4d-b1c9-d6e862e5e311",
   "metadata": {
    "tags": []
   },
   "outputs": [],
   "source": [
    "#importing and Data Checking (World Data 2023)\n",
    "\n",
    "#world_data=pd.read_csv(\"C:\\\\Users\\\\Ahnaf\\\\Desktop\\\\LHL Final Project\\\\LHL-Final-Project-Global-Airport-Analysis-\\\\world-data-2023 uncleaned.csv\")\n",
    "\n",
    "#basic data checking\n",
    "\n",
    "#world_data.head()\n",
    "#world_data.describe()\n",
    "#world_data.dtypes\n",
    "#world_data.duplicated().sum()\n",
    "#world_data.isnull().sum()\n"
   ]
  },
  {
   "cell_type": "code",
   "execution_count": null,
   "id": "1fcd1089-0905-43fe-aa1b-0abf64511c1d",
   "metadata": {
    "tags": []
   },
   "outputs": [],
   "source": [
    "# Calculate the percentage of missing values for each column in the cleaned dataset\n",
    "missing_percentage = (world_data_cleaned.isnull().sum() / len(world_data_cleaned)) * 100\n",
    "\n",
    "# Filter out columns that have missing values\n",
    "cols_with_missing_values = missing_percentage[missing_percentage > 0]\n",
    "\n",
    "cols_with_missing_values.sort_values(ascending=False)\n"
   ]
  },
  {
   "cell_type": "code",
   "execution_count": null,
   "id": "a4508c27-7b74-4a6d-9beb-2d2af829dd01",
   "metadata": {
    "tags": []
   },
   "outputs": [],
   "source": [
    "# Set a threshold for dropping columns\n",
    "drop_threshold = 3\n",
    "\n",
    "# Identify columns where the percentage of missing values is 3% or greater\n",
    "cols_to_drop = world_data_cleaned.columns[world_data_cleaned.isnull().mean() * 100 >= drop_threshold]\n",
    "\n",
    "# Drop identified columns\n",
    "world_data = world_data_cleaned.drop(columns=cols_to_drop)\n",
    "world_data.isnull().sum()"
   ]
  },
  {
   "cell_type": "code",
   "execution_count": null,
   "id": "e1a0a0be-bbfc-473d-8b7a-632a992b2cfd",
   "metadata": {
    "tags": []
   },
   "outputs": [],
   "source": [
    "#Exporting Cleaned Data (World Data 2023)\n",
    "file_path=\"C:\\\\Users\\\\Ahnaf\\\\Desktop\\\\LHL Final Project\\\\LHL-Final-Project-Global-Airport-Analysis-\\\\world-data-2023 uncleaned.csv\"\n",
    "#world_data.to_csv(file_path, index=False)"
   ]
  },
  {
   "cell_type": "code",
   "execution_count": 5,
   "id": "1b365fa0-2889-4f42-9fac-9a464182579c",
   "metadata": {
    "tags": []
   },
   "outputs": [],
   "source": [
    "# The world_data dataset underwent detailed cleaning. \n",
    "# On loading and initial inspection, columns and values were reviewed. \n",
    "# A pivotal step was addressing missing values. Columns with over 40% missing data were identified and eliminated to maintain accuracy. \n",
    "# Additional columns with some missing values were also spotted, with imputation suggested as a potential remedy. \n",
    "# Post-cleaning, the refined data was saved as world_data_cleaned_2023.csv. \n",
    "# This process ensured world_data became a more reliable foundation for subsequent analysis and visualization tasks."
   ]
  },
  {
   "cell_type": "code",
   "execution_count": null,
   "id": "bf8af9e4-c57d-4a21-b460-762ac1a064e6",
   "metadata": {},
   "outputs": [],
   "source": []
  },
  {
   "cell_type": "code",
   "execution_count": 6,
   "id": "97a3261c-5f14-494c-92e3-816b9bcf52ef",
   "metadata": {
    "tags": []
   },
   "outputs": [],
   "source": [
    "#Importing Airport Data\n",
    "airport_data=pd.read_csv(\"C:\\\\Users\\\\Ahnaf\\Desktop\\\\LHL Final Project\\\\LHL-Final-Project-Global-Airport-Analysis-\\\\airports_data uncleaned.csv\")"
   ]
  },
  {
   "cell_type": "code",
   "execution_count": 7,
   "id": "82d7ad99-2f13-49a0-91f6-c8a9cc7ea560",
   "metadata": {
    "tags": []
   },
   "outputs": [],
   "source": [
    "#checking data overall, before cleaning\n",
    "\n",
    "#airport_data.head()\n",
    "#airport_data.describe\n",
    "#airport_data.shape\n",
    "#airport_data.isnull().sum()\n",
    "#airport_data.duplicated().sum()\n",
    "#airport_data.dtypes"
   ]
  },
  {
   "cell_type": "code",
   "execution_count": 8,
   "id": "35814ca5-4114-453f-849e-b69334760868",
   "metadata": {
    "tags": []
   },
   "outputs": [],
   "source": [
    "################Cleaning Summary ##################:\n",
    "# The airports_data dataset was analyzed for data cleaning. \n",
    "# It contains columns for airport details, including geographical coordinates and altitude. \n",
    "# The dataset displayed no missing values or duplicates. Data types were consistent with the data they represented. \n",
    "# The dataset provides a global overview of airports, revealing diverse altitudes, including some below sea level. \n",
    "# A redundant index column was identified for potential removal. This clean dataset is now ready for further analyses and visualizations."
   ]
  },
  {
   "cell_type": "code",
   "execution_count": 27,
   "id": "6c9b9c25-2e6c-439b-8092-aec933518dd0",
   "metadata": {},
   "outputs": [],
   "source": [
    "#Concatinating two csv files(world & Airport data) in a new csv file Name: Data\n",
    "\n",
    "world_data=pd.read_csv(\"C:\\\\Users\\\\Ahnaf\\\\Desktop\\\\LHL Final Project\\\\LHL-Final-Project-Global-Airport-Analysis-\\\\world-data-2023 cleaned.csv\")\n",
    "data=pd.concat([airport_data,world_data], axis=1)\n",
    "\n",
    "#Exporting and saving Data (Concatinated File) to a local drive.\n",
    "path=\"C:\\\\Users\\\\Ahnaf\\\\Desktop\\\\LHL Final Project\\\\LHL-Final-Project-Global-Airport-Analysis-\\\\data.xlsx\"\n",
    "#data.to_csv(path,index=False)"
   ]
  },
  {
   "cell_type": "code",
   "execution_count": 21,
   "id": "cd7e9b26-023f-4130-8d61-19ded8540ca3",
   "metadata": {
    "tags": []
   },
   "outputs": [
    {
     "data": {
      "text/plain": [
       "Unnamed: 0              int64\n",
       "name                   object\n",
       "iata                   object\n",
       "icao                   object\n",
       "lat                   float64\n",
       "lon                   float64\n",
       "country                object\n",
       "alt                     int64\n",
       "Country                object\n",
       "Density\\n(P/Km2)       object\n",
       "Land Area(Km2)         object\n",
       "Calling Code          float64\n",
       "Capital/Major City     object\n",
       "GDP                    object\n",
       "Official language      object\n",
       "Population             object\n",
       "Urban_population       object\n",
       "Latitude              float64\n",
       "Longitude             float64\n",
       "dtype: object"
      ]
     },
     "execution_count": 21,
     "metadata": {},
     "output_type": "execute_result"
    }
   ],
   "source": [
    "data.dtypes"
   ]
  },
  {
   "cell_type": "code",
   "execution_count": null,
   "id": "f7979add-979e-4319-82d9-dac1186048d2",
   "metadata": {},
   "outputs": [],
   "source": []
  }
 ],
 "metadata": {
  "kernelspec": {
   "display_name": "firstEnv",
   "language": "python",
   "name": "firstenv"
  },
  "language_info": {
   "codemirror_mode": {
    "name": "ipython",
    "version": 3
   },
   "file_extension": ".py",
   "mimetype": "text/x-python",
   "name": "python",
   "nbconvert_exporter": "python",
   "pygments_lexer": "ipython3",
   "version": "3.11.3"
  }
 },
 "nbformat": 4,
 "nbformat_minor": 5
}
